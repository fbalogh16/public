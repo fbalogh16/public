{
 "cells": [
  {
   "cell_type": "markdown",
   "metadata": {},
   "source": [
    "# Logistic regression"
   ]
  },
  {
   "cell_type": "markdown",
   "metadata": {},
   "source": [
    "## The basic setup"
   ]
  },
  {
   "cell_type": "markdown",
   "metadata": {},
   "source": [
    "Logistic regression is a binary classification model trained on data with known class labels. The algorithm is trained on a data set divided into two mutually exclusive classes, and for a previously unseen sample it gives a  prediction of the probabilities its class membership.\n",
    "\n",
    "Assume that we have $n$ samples in the training data with $N$ observable quantities/features; each sample can be thought of as a vector in the $N$-dimensional space $\\mathbb{R}^N$\n",
    "$$\n",
    "\\mathbf{x}_i = \\begin{bmatrix}\n",
    "x_1\\\\\n",
    "x_2\\\\\n",
    "\\vdots\\\\\n",
    "x_N\n",
    "\\end{bmatrix} \\quad i=1,\\dots, n.\n",
    "$$\n",
    "\n",
    "Each sample belongs to exactly one of the two classes; for simplicity, we will use the class labels $0$ and $1$.\n",
    "The variable $y_i$ is the class label associated with the sample $\\mathbf{x}_i$.\n",
    "\n",
    "Logistic regression is a linear model: we associate weights $w_1,w_2,\\dots, w_N$ to the data features and a so-called bias term $w_0$, to be determined from the training data. We consider linear combinations of the form\n",
    "$$\n",
    "w_1x_1+w_2x_2+\\dots+w_N x_N +b = \\mathbf{w}^{T}\\mathbf{x}+b,\n",
    "$$\n",
    "where the second expression is an abbreviated vector notation for the scalar product of the vectors $\\mathbf{x}$ and $\\mathbf{w}$. Linear combinations like this are not suitable to be interpreted as probabilities: they can be negative or larger than $1$. Instead, we pass them through a standard nonlinear function, the logistic function\n",
    "$$\n",
    "\\sigma(z) = \\dfrac{e^{z}}{1+e^{z}}=\\dfrac{1}{1+e^{-z}}\n",
    "$$\n",
    "which maps the real line to the interval $(0,1)$. \n",
    "\n",
    "We will now use a basic Python code to plot $\\sigma(z)$."
   ]
  },
  {
   "cell_type": "code",
   "execution_count": 5,
   "metadata": {
    "scrolled": true
   },
   "outputs": [],
   "source": [
    "#loading the necessary modules\n",
    "import numpy as np\n",
    "import matplotlib.pyplot as plt"
   ]
  },
  {
   "cell_type": "markdown",
   "metadata": {},
   "source": [
    "Here is a plot of the logistic function:"
   ]
  },
  {
   "cell_type": "code",
   "execution_count": 6,
   "metadata": {},
   "outputs": [
    {
     "data": {
      "image/png": "[encoded data removed]",
      "text/plain": [
       "<Figure size 432x288 with 1 Axes>"
      ]
     },
     "metadata": {
      "needs_background": "light"
     },
     "output_type": "display_data"
    }
   ],
   "source": [
    "def sigmoid(z):\n",
    "    return 1.0/(1.0+np.exp(-z))\n",
    "z = np.arange(-7,7,0.1)\n",
    "sigma_z = sigmoid(z)\n",
    "plt.xlabel('z')\n",
    "plt.ylabel('$\\sigma$(z)')\n",
    "plt.axvline(0.0,color='k')\n",
    "plt.axhline(0.0,color='k')\n",
    "plt.ylim(-0.1,1.1)\n",
    "plt.yticks([0.0,0.5,1.0])\n",
    "ax=plt.gca()\n",
    "ax.yaxis.grid(True)\n",
    "plt.plot(z,sigma_z)\n",
    "plt.tight_layout()\n",
    "plt.show()"
   ]
  },
  {
   "cell_type": "markdown",
   "metadata": {},
   "source": [
    "The linear combination\n",
    "$$\n",
    "p_i = \\sigma(\\mathbf{w}^{T}\\mathbf{x}+b)=\\dfrac{e^{\\mathbf{w}^{T}\\mathbf{x}+b}}{1+e^{\\mathbf{w}^{T}\\mathbf{x}+b}}\n",
    "$$\n",
    "is interpreted as a probability. The weights $w_1,w_2,\\dots, w_N$ and the bias $b$ are calculated from the training data samples by a maximum likelihood-type optimization:  we see seek $\\mathbf{w}$ and $b$ such that the following product is maximal:\n",
    "$$\n",
    "L(\\mathbf{x},\\mathbf{w},b)= \\prod_{i=1}^{n}p_i^{y_i}(1-p_i)^{1-y_i}\n",
    "$$\n",
    "Maximizing $L$ is the same as minimizing $-\\log(L)$, which we can call the loss function:\n",
    "$$\n",
    "l(\\mathbf{x},\\mathbf{w},b)=-\\sum_{i=1}^{n}[y_i\\log(p_i)+(1-y_i)\\log(1-p_i)]\n",
    "$$\n",
    "To keep the values \n",
    "\n",
    "$$\n",
    "p(\\mathbf{x}_i,\\mathbf{w})=\\dfrac{e^{\\mathbf{w}_k^T\\mathbf{x}}}{e^{\\mathbf{w}_1^T\\mathbf{x}}+e^{\\mathbf{w}_2^T\\mathbf{x}}+\\dots+e^{\\mathbf{w}_K^T\\mathbf{x}}}.\n",
    "\\label{pk}\n",
    "$$\n",
    "\n",
    "In the simplest setup, the data consists of two groups; we use the labels 0 and 1 for the two classes. Even though standard logistic regression is a binary model, we can use it in scenarios with multiple classes present by combining One-vs-Rest or One-vs-One models for each class or for each pair of classes respectively, and then use a voting method to select the class.\n",
    "and it returns the probability that an unseen sample point is\n",
    "\n",
    "The goal is to choose the weight vectors $\\mathbf{w}^{k}$ based on the training set so that from the scalar products $\\mathbf{w}^{k} \\mathbf{x}$ we can deduce probabilities $p_k$ that the unseen sample $\\mathbf{x}$ belongs to class $k$. In a multivariate logistic regression model these probabilities are of the form\n",
    "\\begin{equation}\n",
    "p_k = \\dfrac{e^{\\mathbf{w}_k^T\\mathbf{x}}}{e^{\\mathbf{w}_1^T\\mathbf{x}}+e^{\\mathbf{w}_2^T\\mathbf{x}}+\\dots+e^{\\mathbf{w}_K^T\\mathbf{x}}}.\n",
    "\\label{pk}\n",
    "\\end{equation}\n",
    "\n",
    "It is easy to see from that the $p_k$'s are between $0$ and $1$ and they sum up to $1$ across all class labels, so they can be interpreted as probabilities."
   ]
  },
  {
   "cell_type": "code",
   "execution_count": null,
   "metadata": {},
   "outputs": [],
   "source": []
  }
 ],
 "metadata": {
  "kernelspec": {
   "display_name": "Python 3",
   "language": "python",
   "name": "python3"
  },
  "language_info": {
   "codemirror_mode": {
    "name": "ipython",
    "version": 3
   },
   "file_extension": ".py",
   "mimetype": "text/x-python",
   "name": "python",
   "nbconvert_exporter": "python",
   "pygments_lexer": "ipython3",
   "version": "3.8.3"
  }
 },
 "nbformat": 4,
 "nbformat_minor": 4
}
